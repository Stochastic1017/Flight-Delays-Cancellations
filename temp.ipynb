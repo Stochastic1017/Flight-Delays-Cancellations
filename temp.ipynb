{
 "cells": [
  {
   "cell_type": "code",
   "execution_count": 13,
   "metadata": {},
   "outputs": [],
   "source": [
    "import pandas as pd\n",
    "\n",
    "# Load the CSV file and drop unnecessary columns\n",
    "df = pd.read_csv(\"2018/TRANSTAT/2018_1.csv\", low_memory=False).drop(columns=[\n",
    "    # Redundant Datetime columns\n",
    "    \"Year\", \"Quarter\", \"Month\", \"DayofMonth\", \"DayOfWeek\",\n",
    "    \n",
    "    # Redundant Airline Info columns\n",
    "    \"Operated_or_Branded_Code_Share_Partners\", \"DOT_ID_Marketing_Airline\",\n",
    "    \"DOT_ID_Operating_Airline\", \"Flight_Number_Marketing_Airline\",\n",
    "    \"IATA_Code_Marketing_Airline\", \"Originally_Scheduled_Code_Share_Airline\",\n",
    "    \"DOT_ID_Originally_Scheduled_Code_Share_Airline\",\n",
    "    \"IATA_Code_Originally_Scheduled_Code_Share_Airline\",\n",
    "    \"IATA_Code_Operating_Airline\", \"Flight_Num_Originally_Scheduled_Code_Share_Airline\",\n",
    "    \"Tail_Number\",\n",
    "    \n",
    "    # Redundant Origin Info columns\n",
    "    \"Origin\", \"OriginAirportID\", \"OriginAirportSeqID\", \"OriginCityMarketID\",\n",
    "    \"OriginState\", \"OriginWac\", \"OriginStateName\",\n",
    "    \n",
    "    # Redundant Destination Info columns\n",
    "    \"Dest\", \"DestAirportID\", \"DestAirportSeqID\", \"DestCityMarketID\",\n",
    "    \"DestState\", \"DestWac\", \"DestStateName\",\n",
    "    \n",
    "    # Redundant Departure Time Info columns\n",
    "    \"CRSDepTime\", \"DepDelay\", \"DepDelayMinutes\", \"DepartureDelayGroups\",\n",
    "    \"DepTimeBlk\", \"DepDel15\", \"TaxiOut\",\n",
    "    \n",
    "    # Redundant Arrival Time Info columns\n",
    "    \"CRSArrTime\", \"ArrDelay\", \"ArrDelayMinutes\", \"ArrivalDelayGroups\",\n",
    "    \"ArrTimeBlk\", \"WheelsOn\", \"ArrDel15\",\n",
    "    \n",
    "    # Redundant Cancellation Info columns\n",
    "    \"CancellationCode\", \"Duplicate\", \"AirTime\", \"Flights\", \"DistanceGroup\",\n",
    "    \n",
    "    # Redundant Gate Return Info column\n",
    "    \"LongestAddGTime\"\n",
    "])\n",
    "\n",
    "# Drop the last 40 columns after removing specified columns\n",
    "df = df.iloc[:, :-40]"
   ]
  },
  {
   "cell_type": "code",
   "execution_count": 14,
   "metadata": {},
   "outputs": [
    {
     "data": {
      "text/plain": [
       "Index(['FlightDate', 'Marketing_Airline_Network', 'Operating_Airline ',\n",
       "       'Flight_Number_Operating_Airline', 'OriginCityName', 'OriginStateFips',\n",
       "       'DestCityName', 'DestStateFips', 'DepTime', 'WheelsOff', 'TaxiIn',\n",
       "       'ArrTime', 'Cancelled', 'Diverted', 'CRSElapsedTime',\n",
       "       'ActualElapsedTime', 'Distance', 'CarrierDelay', 'WeatherDelay',\n",
       "       'NASDelay', 'SecurityDelay', 'LateAircraftDelay', 'FirstDepTime',\n",
       "       'TotalAddGTime', 'DivAirportLandings', 'DivReachedDest',\n",
       "       'DivActualElapsedTime', 'DivArrDelay', 'DivDistance', 'Div1Airport'],\n",
       "      dtype='object')"
      ]
     },
     "execution_count": 14,
     "metadata": {},
     "output_type": "execute_result"
    }
   ],
   "source": [
    "df.columns"
   ]
  },
  {
   "cell_type": "code",
   "execution_count": null,
   "metadata": {},
   "outputs": [],
   "source": []
  }
 ],
 "metadata": {
  "kernelspec": {
   "display_name": "Python 3",
   "language": "python",
   "name": "python3"
  },
  "language_info": {
   "codemirror_mode": {
    "name": "ipython",
    "version": 3
   },
   "file_extension": ".py",
   "mimetype": "text/x-python",
   "name": "python",
   "nbconvert_exporter": "python",
   "pygments_lexer": "ipython3",
   "version": "3.12.3"
  }
 },
 "nbformat": 4,
 "nbformat_minor": 2
}
